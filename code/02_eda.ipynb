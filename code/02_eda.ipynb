{
 "cells": [
  {
   "cell_type": "markdown",
   "id": "3b160ecc",
   "metadata": {},
   "source": [
    "# Análisis de ventas de productos digitales simuladas \n",
    "## Fase 2. Análisis exploratorio \n",
    "Comprender el comportamiento general del negocio y sus dimensiones clave\n",
    "\n",
    "```mermaid\n",
    "    graph LR\n",
    "    A[1 <br> KPIs globales]\n",
    "    B[2 <br> EDA por dimensiones]\n",
    "    C[3 <br> Cohorts y recurrencia]\n",
    "    \n",
    "    A-->B\n",
    "    B-->C\n",
    "\n",
    "    style A fill: #105e6c\n",
    "    style B fill: #318291\n",
    "    style C fill: #325b63\n",
    "\n",
    "```"
   ]
  },
  {
   "cell_type": "code",
   "execution_count": 7,
   "id": "78f1b6b0",
   "metadata": {},
   "outputs": [
    {
     "name": "stdout",
     "output_type": "stream",
     "text": [
      "<class 'pandas.core.frame.DataFrame'>\n",
      "RangeIndex: 8000 entries, 0 to 7999\n",
      "Data columns (total 21 columns):\n",
      " #   Column            Non-Null Count  Dtype  \n",
      "---  ------            --------------  -----  \n",
      " 0   order_id          8000 non-null   int64  \n",
      " 1   customer_id       8000 non-null   int64  \n",
      " 2   product_name      8000 non-null   object \n",
      " 3   category          8000 non-null   object \n",
      " 4   price_usd         8000 non-null   float64\n",
      " 5   quantity          8000 non-null   int64  \n",
      " 6   discount_rate     8000 non-null   float64\n",
      " 7   gross_amount_usd  8000 non-null   float64\n",
      " 8   net_revenue_usd   8000 non-null   float64\n",
      " 9   purchase_dt       8000 non-null   object \n",
      " 10  region            8000 non-null   object \n",
      " 11  channel           8000 non-null   object \n",
      " 12  payment_method    8000 non-null   object \n",
      " 13  order_date        8000 non-null   object \n",
      " 14  year              8000 non-null   int64  \n",
      " 15  month             8000 non-null   int64  \n",
      " 16  day               8000 non-null   int64  \n",
      " 17  day_of_week       8000 non-null   int64  \n",
      " 18  week_of_year      8000 non-null   int64  \n",
      " 19  is_weekend        8000 non-null   int64  \n",
      " 20  trimester         8000 non-null   int64  \n",
      "dtypes: float64(4), int64(10), object(7)\n",
      "memory usage: 1.3+ MB\n"
     ]
    }
   ],
   "source": [
    "import pandas as pd\n",
    "import numpy as np\n",
    "import matplotlib.pyplot as plt\n",
    "\n",
    "data = pd.read_csv('C:/Users/nat27/Desktop/Desktop/Proyectos/CienciaDatos/digital-sales-analytics/data/clean/digital_products_sales_cleaned.csv')\n",
    "data.info()"
   ]
  },
  {
   "cell_type": "code",
   "execution_count": 13,
   "id": "d9e89254",
   "metadata": {},
   "outputs": [
    {
     "name": "stdout",
     "output_type": "stream",
     "text": [
      "Total Net Revenue: $374,647.04\n",
      "Total Gross Revenue: $379,572.66\n",
      "Total Units Sold: 9,664\n",
      "Average Order Value: $46.83\n",
      "Maximum Order Value: $236.28\n",
      "Minimum Order Value: $2.55\n",
      "Average Discount Rate: 1.29%\n"
     ]
    }
   ],
   "source": [
    "# 1. KPIs globales  \n",
    "total_net_revenue = data['net_revenue_usd'].sum()\n",
    "total_gross_revenue = data['gross_amount_usd'].sum()\n",
    "total_units_sold = data['quantity'].sum()\n",
    "average_order_value = total_net_revenue / total_orders\n",
    "maximum_order_value = data['net_revenue_usd'].max()\n",
    "minimum_order_value = data['net_revenue_usd'].min()\n",
    "average_discount = data['discount_rate'].mean()\n",
    "print(f\"Total Net Revenue: ${total_net_revenue:,.2f}\")\n",
    "print(f\"Total Gross Revenue: ${total_gross_revenue:,.2f}\")\n",
    "print(f\"Total Units Sold: {total_units_sold:,}\")\n",
    "print(f\"Average Order Value: ${average_order_value:,.2f}\")\n",
    "print(f\"Maximum Order Value: ${maximum_order_value:,.2f}\")\n",
    "print(f\"Minimum Order Value: ${minimum_order_value:,.2f}\")\n",
    "print(f\"Average Discount Rate: {average_discount:.2%}\")"
   ]
  }
 ],
 "metadata": {
  "kernelspec": {
   "display_name": "Python 3",
   "language": "python",
   "name": "python3"
  },
  "language_info": {
   "codemirror_mode": {
    "name": "ipython",
    "version": 3
   },
   "file_extension": ".py",
   "mimetype": "text/x-python",
   "name": "python",
   "nbconvert_exporter": "python",
   "pygments_lexer": "ipython3",
   "version": "3.12.7"
  }
 },
 "nbformat": 4,
 "nbformat_minor": 5
}
